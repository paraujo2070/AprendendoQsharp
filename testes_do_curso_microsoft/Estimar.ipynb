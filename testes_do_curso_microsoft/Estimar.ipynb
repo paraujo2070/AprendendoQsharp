{
 "cells": [
  {
   "cell_type": "code",
   "execution_count": 1,
   "metadata": {},
   "outputs": [
    {
     "ename": "ModuleNotFoundError",
     "evalue": "No module named 'qsharp'",
     "output_type": "error",
     "traceback": [
      "\u001b[31m---------------------------------------------------------------------------\u001b[39m",
      "\u001b[31mModuleNotFoundError\u001b[39m                       Traceback (most recent call last)",
      "\u001b[36mCell\u001b[39m\u001b[36m \u001b[39m\u001b[32mIn[1]\u001b[39m\u001b[32m, line 1\u001b[39m\n\u001b[32m----> \u001b[39m\u001b[32m1\u001b[39m \u001b[38;5;28;01mimport\u001b[39;00m\u001b[38;5;250m \u001b[39m\u001b[34;01mqsharp\u001b[39;00m\n\u001b[32m      2\u001b[39m \u001b[38;5;28;01mfrom\u001b[39;00m\u001b[38;5;250m \u001b[39m\u001b[34;01mqsharp_widgets\u001b[39;00m\u001b[38;5;250m \u001b[39m\u001b[38;5;28;01mimport\u001b[39;00m EstimateDetails\n\u001b[32m      3\u001b[39m result = qsharp.estimate(\u001b[33m\"\u001b[39m\u001b[33mRandomBit()\u001b[39m\u001b[33m\"\u001b[39m)\n",
      "\u001b[31mModuleNotFoundError\u001b[39m: No module named 'qsharp'"
     ]
    }
   ],
   "source": [
    "import qsharp\n",
    "from qsharp_widgets import EstimateDetails\n",
    "result = qsharp.estimate(\"RandomBit()\")\n",
    "result\n",
    "result['jobParams']"
   ]
  },
  {
   "cell_type": "code",
   "execution_count": null,
   "metadata": {
    "vscode": {
     "languageId": "qsharp"
    }
   },
   "outputs": [
    {
     "name": "stderr",
     "output_type": "stream",
     "text": [
      "UsageError: Cell magic `%%qsharp` not found.\n"
     ]
    }
   ],
   "source": [
    "%%qsharp\n",
    "/// # Sample\n",
    "/// Random Bit\n",
    "///\n",
    "/// # Description\n",
    "/// This Q# program generates a random bit by setting a qubit in a superposition\n",
    "/// of the computational basis states |0〉 and |1〉, and returning the measurement\n",
    "/// result.\n",
    "\n",
    "    operation RandomBit() : Result {\n",
    "        // Qubits are only accesible for the duration of the scope where they\n",
    "        // are allocated and are automatically released at the end of the scope.\n",
    "        use qubit = Qubit();\n",
    "\n",
    "        // Set the qubit in superposition by applying a Hadamard transformation.\n",
    "        H(qubit);\n",
    "\n",
    "        // Measure the qubit. There is a 50% probability of measuring either \n",
    "        // `Zero` or `One`.\n",
    "        let result = M(qubit);\n",
    "\n",
    "        // Reset the qubit so it can be safely released.\n",
    "        Reset(qubit);\n",
    "        return result;\n",
    "    }"
   ]
  }
 ],
 "metadata": {
  "kernelspec": {
   "display_name": "Python 3",
   "language": "python",
   "name": "python3"
  },
  "language_info": {
   "codemirror_mode": {
    "name": "ipython",
    "version": 3
   },
   "file_extension": ".py",
   "mimetype": "text/x-python",
   "name": "python",
   "nbconvert_exporter": "python",
   "pygments_lexer": "ipython3",
   "version": "3.11.0"
  }
 },
 "nbformat": 4,
 "nbformat_minor": 2
}
